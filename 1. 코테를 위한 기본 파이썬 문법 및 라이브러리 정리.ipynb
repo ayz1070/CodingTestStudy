{
 "cells": [
  {
   "cell_type": "markdown",
   "id": "5e6d2062",
   "metadata": {},
   "source": [
    "# 1. 자료형\n",
    "\n",
    "헷갈리는 것 위주로 정리하겠다.\n",
    "\n",
    "## 실수형\n",
    "- \"유효숫자e지수\" 형태로 표현이 가능하다."
   ]
  },
  {
   "cell_type": "code",
   "execution_count": 1,
   "id": "32c81adc",
   "metadata": {},
   "outputs": [
    {
     "name": "stdout",
     "output_type": "stream",
     "text": [
      "1000000000.0\n",
      "1.234\n"
     ]
    }
   ],
   "source": [
    "print(1e9)\n",
    "print(1234e-3)"
   ]
  },
  {
   "cell_type": "markdown",
   "id": "075dd2ac",
   "metadata": {},
   "source": [
    "- round 함수를 사용하여 특정 소숫점에서 반올림이 가능하다."
   ]
  },
  {
   "cell_type": "code",
   "execution_count": 7,
   "id": "be0ae7e4",
   "metadata": {},
   "outputs": [
    {
     "name": "stdout",
     "output_type": "stream",
     "text": [
      "0.1\n",
      "0.147\n"
     ]
    }
   ],
   "source": [
    "a = 0.1467\n",
    "# 첫 째 자리까지 표현\n",
    "print(round(a,1))\n",
    "# 셋 째 자리까지 표현\n",
    "print(round(a,3))"
   ]
  },
  {
   "cell_type": "markdown",
   "id": "2b405ec7",
   "metadata": {},
   "source": [
    "## 리스트 자료형\n",
    "\n",
    "- 리스트는 기본적으로 아래와 같이 선언 가능하다."
   ]
  },
  {
   "cell_type": "code",
   "execution_count": 9,
   "id": "0563c1ad",
   "metadata": {},
   "outputs": [
    {
     "name": "stdout",
     "output_type": "stream",
     "text": [
      "<class 'list'>\n"
     ]
    }
   ],
   "source": [
    "a = list()\n",
    "b = []\n",
    "print(type(a))"
   ]
  },
  {
   "cell_type": "markdown",
   "id": "f4343b96",
   "metadata": {},
   "source": [
    "### 리스트 컴프리헨션\n",
    "\n",
    "- 리스트를 괄호 안에 조건문이나 반복문을 사용함으로써 초기화하는 방식이다.\n"
   ]
  },
  {
   "cell_type": "code",
   "execution_count": 10,
   "id": "1baa2153",
   "metadata": {},
   "outputs": [
    {
     "data": {
      "text/plain": [
       "[0, 3, 6, 9]"
      ]
     },
     "execution_count": 10,
     "metadata": {},
     "output_type": "execute_result"
    }
   ],
   "source": [
    "# 0에서 10까지 3의 배수\n",
    "arr = [i for i in range(0,10) if i%3 == 0]\n",
    "arr"
   ]
  },
  {
   "cell_type": "code",
   "execution_count": 11,
   "id": "eb3934eb",
   "metadata": {},
   "outputs": [
    {
     "data": {
      "text/plain": [
       "[0, 1, 4, 9, 16, 25, 36, 49, 64, 81]"
      ]
     },
     "execution_count": 11,
     "metadata": {},
     "output_type": "execute_result"
    }
   ],
   "source": [
    "# 0에서 10까지 제곱\n",
    "arr2 = [i*i for i in range(0,10)]\n",
    "arr2"
   ]
  },
  {
   "cell_type": "code",
   "execution_count": 12,
   "id": "eda0a012",
   "metadata": {},
   "outputs": [
    {
     "data": {
      "text/plain": [
       "[[0, 0, 0, 0], [0, 0, 0, 0], [0, 0, 0, 0]]"
      ]
     },
     "execution_count": 12,
     "metadata": {},
     "output_type": "execute_result"
    }
   ],
   "source": [
    "# 2차원 리스트를 초기화할 때 유용하다.\n",
    "n=3\n",
    "m=4\n",
    "arr3 = [[0]*m for _ in range(0,n)]\n",
    "arr3"
   ]
  },
  {
   "cell_type": "markdown",
   "id": "d1ea76e7",
   "metadata": {},
   "source": [
    "### 리스트 관련 메서드\n",
    "\n",
    "- insert()\n",
    "    - insert는 지정 위치에 원소를 삽입하는 메서드\n",
    "    - 위치를 찾아야 하기 때문에 시간복잡도는 O(n)\n",
    "    - 남발하면 시간 초과\n"
   ]
  },
  {
   "cell_type": "code",
   "execution_count": 16,
   "id": "d4f7c722",
   "metadata": {},
   "outputs": [
    {
     "data": {
      "text/plain": [
       "[1, 3, 4, 5]"
      ]
     },
     "execution_count": 16,
     "metadata": {},
     "output_type": "execute_result"
    }
   ],
   "source": [
    "marr = [1,3,5]\n",
    "marr.insert(2,4)\n",
    "marr"
   ]
  },
  {
   "cell_type": "markdown",
   "id": "23af054f",
   "metadata": {},
   "source": [
    "- append()\n",
    "    - 리스트의 맨 뒤에 원소 삽입\n",
    "    - O(1)의 시간복잡도를 가진다"
   ]
  },
  {
   "cell_type": "code",
   "execution_count": 17,
   "id": "c071b7ee",
   "metadata": {},
   "outputs": [
    {
     "data": {
      "text/plain": [
       "[1, 3, 4, 5, 6]"
      ]
     },
     "execution_count": 17,
     "metadata": {},
     "output_type": "execute_result"
    }
   ],
   "source": [
    "marr.append(6)\n",
    "marr"
   ]
  },
  {
   "cell_type": "markdown",
   "id": "8aa339b2",
   "metadata": {},
   "source": [
    "- remove()\n",
    "    - 리스트의 원소를 삭제\n",
    "    - O(n)의 시간복잡도를 가진다.\n",
    "    "
   ]
  },
  {
   "cell_type": "code",
   "execution_count": 19,
   "id": "b00ca96d",
   "metadata": {},
   "outputs": [
    {
     "data": {
      "text/plain": [
       "[3, 4, 5, 6]"
      ]
     },
     "execution_count": 19,
     "metadata": {},
     "output_type": "execute_result"
    }
   ],
   "source": [
    "marr.remove(1)\n",
    "marr"
   ]
  },
  {
   "cell_type": "markdown",
   "id": "fab85d9f",
   "metadata": {},
   "source": [
    "- 활용을 해서 특정 원소만 제거하고 싶다면?"
   ]
  },
  {
   "cell_type": "code",
   "execution_count": 22,
   "id": "fbec7cfe",
   "metadata": {},
   "outputs": [
    {
     "data": {
      "text/plain": [
       "[3, 3, 5, 6, 7]"
      ]
     },
     "execution_count": 22,
     "metadata": {},
     "output_type": "execute_result"
    }
   ],
   "source": [
    "marr2 = [1,1,1,1,3,3,4,5,6,7]\n",
    "remove_set = [1,4]\n",
    "result = [i for i in marr2 if i not in remove_set]\n",
    "result"
   ]
  },
  {
   "cell_type": "markdown",
   "id": "2a098c1d",
   "metadata": {},
   "source": [
    "### 튜플 자료형\n",
    "\n",
    "- 한 번 선언된 값을 변경할 수 없다\n",
    "- 소괄호 ()로 선언한다.\n",
    "- 그래프 알고리즘에서 자주 사용되어 튜플을 사용함으로써 변경하면 안 되는 값이 변경되고 있는지 체크가 가능하다.\n",
    "- 다익스타라 최단 경로 알고리즘에서 비용과 노드라는 서로 다른 성질의 데이터를 (비용, 노드)로 튜플로 나타내는 것이 관례이다."
   ]
  },
  {
   "cell_type": "code",
   "execution_count": 23,
   "id": "25deef70",
   "metadata": {},
   "outputs": [
    {
     "ename": "TypeError",
     "evalue": "'tuple' object does not support item assignment",
     "output_type": "error",
     "traceback": [
      "\u001b[1;31m---------------------------------------------------------------------------\u001b[0m",
      "\u001b[1;31mTypeError\u001b[0m                                 Traceback (most recent call last)",
      "Cell \u001b[1;32mIn[23], line 2\u001b[0m\n\u001b[0;32m      1\u001b[0m tp \u001b[38;5;241m=\u001b[39m (\u001b[38;5;241m1\u001b[39m,\u001b[38;5;241m2\u001b[39m,\u001b[38;5;241m3\u001b[39m,\u001b[38;5;241m4\u001b[39m)\n\u001b[1;32m----> 2\u001b[0m \u001b[43mtp\u001b[49m\u001b[43m[\u001b[49m\u001b[38;5;241;43m1\u001b[39;49m\u001b[43m]\u001b[49m \u001b[38;5;241m=\u001b[39m \u001b[38;5;241m3\u001b[39m\n",
      "\u001b[1;31mTypeError\u001b[0m: 'tuple' object does not support item assignment"
     ]
    }
   ],
   "source": [
    "tp = (1,2,3,4)\n",
    "tp[1] = 3\n"
   ]
  },
  {
   "cell_type": "markdown",
   "id": "2c096a53",
   "metadata": {},
   "source": [
    "### 사전 자료형\n",
    "- 키와 값의 쌍으로 데이터를 가지는 자료형\n",
    "- O(1)의 시간복잡도를 가져 문제를 풀 때 효율적으로 사용할 수 있다.\n"
   ]
  },
  {
   "cell_type": "code",
   "execution_count": 28,
   "id": "308fe0a4",
   "metadata": {},
   "outputs": [
    {
     "name": "stdout",
     "output_type": "stream",
     "text": [
      "True\n",
      "dict_keys(['사과', '바나나', '수박'])\n",
      "dict_values(['apple', 'banana', 'watermelon'])\n"
     ]
    }
   ],
   "source": [
    "fruits = dict()\n",
    "fruits['사과'] = 'apple'\n",
    "fruits['바나나'] = 'banana'\n",
    "fruits['수박'] = 'watermelon'\n",
    "\n",
    "print('사과' in fruits)\n",
    "print(fruits.keys())\n",
    "print(fruits.values())"
   ]
  },
  {
   "cell_type": "markdown",
   "id": "9a895e0a",
   "metadata": {},
   "source": [
    "### 집합 자료형\n",
    "\n",
    "- 중복을 허용하지 않는다.\n",
    "- 순서가 없다.\n",
    "- O(1)의 시간복잡도를 지닌다.\n",
    "- 특정한 데이터가 이미 등장한 적이 있는지 여부를 체크할 때 매우 효과적이다."
   ]
  },
  {
   "cell_type": "code",
   "execution_count": 32,
   "id": "d1c85563",
   "metadata": {},
   "outputs": [
    {
     "name": "stdout",
     "output_type": "stream",
     "text": [
      "[1, 1, 1, 3, 4, 4, 5, 2, 2]\n",
      "{1, 2, 3, 4, 5}\n"
     ]
    }
   ],
   "source": [
    "data = [1,1,1,3,4,4,5,2,2]\n",
    "sdata = set(data)\n",
    "print(data)\n",
    "print(sdata)"
   ]
  },
  {
   "cell_type": "code",
   "execution_count": 34,
   "id": "aae7d4a8",
   "metadata": {},
   "outputs": [
    {
     "name": "stdout",
     "output_type": "stream",
     "text": [
      "{1, 2, 3, 4, 5, 6}\n",
      "{3, 4}\n",
      "{1, 2}\n"
     ]
    }
   ],
   "source": [
    "# 집합 자료형의 연산\n",
    "a = set([1,2,3,4])\n",
    "b = set([3,4,5,6])\n",
    "print(a|b) # 합집합\n",
    "print(a&b) # 교집합\n",
    "print(a-b) # 차집합"
   ]
  },
  {
   "cell_type": "code",
   "execution_count": 36,
   "id": "ac6f6785",
   "metadata": {},
   "outputs": [
    {
     "name": "stdout",
     "output_type": "stream",
     "text": [
      "{1, 2, 3}\n",
      "{1, 2, 3, 4}\n",
      "{1, 2, 3, 4, 5, 6}\n",
      "{1, 2, 4, 5, 6}\n"
     ]
    }
   ],
   "source": [
    "# 집합 자료형 관련 함수\n",
    "sdata2= set([1,2,3])\n",
    "print(sdata2)\n",
    "\n",
    "sdata2.add(4)\n",
    "print(sdata2)\n",
    "\n",
    "sdata2.update([5,6])\n",
    "print(sdata2)\n",
    "\n",
    "sdata2.remove(3)\n",
    "print(sdata2)"
   ]
  },
  {
   "cell_type": "markdown",
   "id": "489bffeb",
   "metadata": {},
   "source": [
    "# 2. 람다 표현식"
   ]
  },
  {
   "cell_type": "markdown",
   "id": "2b4b0e6b",
   "metadata": {},
   "source": [
    "람다 표현식이란?\n",
    "\n",
    "- 식 형태로 함수를 만드다.\n",
    "- 익명 함수라고도 한다.\n",
    "\n"
   ]
  },
  {
   "cell_type": "code",
   "execution_count": 1,
   "id": "cc415932",
   "metadata": {},
   "outputs": [
    {
     "data": {
      "text/plain": [
       "20"
      ]
     },
     "execution_count": 1,
     "metadata": {},
     "output_type": "execute_result"
    }
   ],
   "source": [
    "def double_value(x):\n",
    "    return x *2\n",
    "\n",
    "double_value(10)\n"
   ]
  },
  {
   "cell_type": "code",
   "execution_count": 5,
   "id": "03ea9735",
   "metadata": {},
   "outputs": [
    {
     "data": {
      "text/plain": [
       "20"
      ]
     },
     "execution_count": 5,
     "metadata": {},
     "output_type": "execute_result"
    }
   ],
   "source": [
    "lambda_double=lambda x : x*2\n",
    "lambda_double(10)"
   ]
  },
  {
   "cell_type": "markdown",
   "id": "2386c188",
   "metadata": {},
   "source": [
    "- 람다 함수 내에서는 새 변수를 선언할 수 없다.\n",
    "- 람다 함수를 사용하는 목적은 함수의 인수 부분에서 간단하게 함수를 만들기 위해서이다.\n",
    "    - 대표적인 예가 map() 이다."
   ]
  },
  {
   "cell_type": "code",
   "execution_count": 9,
   "id": "c81ab3d7",
   "metadata": {},
   "outputs": [
    {
     "data": {
      "text/plain": [
       "[2, 4, 6]"
      ]
     },
     "execution_count": 9,
     "metadata": {},
     "output_type": "execute_result"
    }
   ],
   "source": [
    "arr = list(map(lambda x: x*2,[1,2,3]))\n",
    "arr"
   ]
  },
  {
   "cell_type": "markdown",
   "id": "ab490be8",
   "metadata": {},
   "source": [
    "- 저 한줄의 코드로 리스트의 원소를 모두 lambda 식에 적용할 수 있다.\n"
   ]
  },
  {
   "cell_type": "markdown",
   "id": "2a201705",
   "metadata": {},
   "source": [
    "## 람다식 활용"
   ]
  },
  {
   "cell_type": "markdown",
   "id": "f239127d",
   "metadata": {},
   "source": [
    "### 조건문 사용\n"
   ]
  },
  {
   "cell_type": "code",
   "execution_count": 16,
   "id": "eb95d96a",
   "metadata": {},
   "outputs": [
    {
     "data": {
      "text/plain": [
       "[0, 0, 3, 0, 0, 6, 0]"
      ]
     },
     "execution_count": 16,
     "metadata": {},
     "output_type": "execute_result"
    }
   ],
   "source": [
    "three = list(map(lambda x: x if x%3==0 else 0, [1,2,3,4,5,6,7]))\n",
    "\n",
    "# 참고로 if문만 사용하면 문법 에러 발생한다. 꼭 else와 같이 사용해야 한다. 그냥 def 써라..\n",
    "three"
   ]
  },
  {
   "cell_type": "markdown",
   "id": "28911f7d",
   "metadata": {},
   "source": [
    "# 3. 입출력"
   ]
  },
  {
   "cell_type": "markdown",
   "id": "03ac5e3c",
   "metadata": {},
   "source": [
    "- 코테에서 전형적인 입력 방법 살펴보자\n"
   ]
  },
  {
   "cell_type": "code",
   "execution_count": 18,
   "id": "b24e8ab8",
   "metadata": {},
   "outputs": [
    {
     "name": "stdout",
     "output_type": "stream",
     "text": [
      "3\n",
      "1 2 3\n",
      "갯수 : 3, data : [1, 2, 3]\n"
     ]
    }
   ],
   "source": [
    "n = int(input())\n",
    "\n",
    "data = list(map(int,input().split()))\n",
    "print(f\"갯수 : {n}, data : {data}\")"
   ]
  },
  {
   "cell_type": "markdown",
   "id": "c4e8c76c",
   "metadata": {},
   "source": [
    "- 전형적인 방법이긴 하나 시간 초과를 방지하기 위해 우리는 조금 더 빠른 입력 방법을 알아야 한다. 아래를 살펴보자.\n",
    "- 주피터 노트북에서는 안되네... 저렇게 바꿀 수 있다고 알아두고 사용하자!!"
   ]
  },
  {
   "cell_type": "code",
   "execution_count": 24,
   "id": "533329b0",
   "metadata": {},
   "outputs": [
    {
     "name": "stdout",
     "output_type": "stream",
     "text": [
      "\n"
     ]
    }
   ],
   "source": [
    "import sys\n",
    "\n",
    "data = sys.stdin.readline().rstrip()\n",
    "print(data)"
   ]
  },
  {
   "cell_type": "markdown",
   "id": "66348b9b",
   "metadata": {},
   "source": [
    "# 4. 코테에서 자주 사용되는 라이브러리"
   ]
  },
  {
   "cell_type": "markdown",
   "id": "bbcb4e99",
   "metadata": {},
   "source": [
    "## 내장 함수"
   ]
  },
  {
   "cell_type": "code",
   "execution_count": 1,
   "id": "93a5cc18",
   "metadata": {},
   "outputs": [
    {
     "name": "stdout",
     "output_type": "stream",
     "text": [
      "15\n",
      "5\n",
      "1\n"
     ]
    }
   ],
   "source": [
    "arr = [1,2,3,4,5]\n",
    "\n",
    "# 리스트의 총 합\n",
    "print(sum(arr))\n",
    "\n",
    "# 최소, 최대\n",
    "print(max(arr))\n",
    "print(min(arr))"
   ]
  },
  {
   "cell_type": "markdown",
   "id": "77affcd5",
   "metadata": {},
   "source": [
    "#### eval()\n",
    "- 수학 수식이 문자열 형식으로 들어오면 해당 수식을 계산한 결과를 반환\n"
   ]
  },
  {
   "cell_type": "code",
   "execution_count": 2,
   "id": "2fafede6",
   "metadata": {},
   "outputs": [
    {
     "name": "stdout",
     "output_type": "stream",
     "text": [
      "28\n"
     ]
    }
   ],
   "source": [
    "result = eval(\"(3+1)*7\")\n",
    "print(result)"
   ]
  },
  {
   "cell_type": "code",
   "execution_count": 6,
   "id": "b4beca0b",
   "metadata": {},
   "outputs": [
    {
     "name": "stdout",
     "output_type": "stream",
     "text": [
      "[3, 4, 6, 8, 9]\n",
      "[6, 3, 8, 4, 9]\n",
      "[9, 8, 6, 4, 3]\n"
     ]
    }
   ],
   "source": [
    "# 오름차순 정렬\n",
    "arr = [6,3,8,4,9]\n",
    "print(sorted(arr))\n",
    "print(arr)\n",
    "# 내림파순 정렬\n",
    "print(sorted(arr,reverse=True))"
   ]
  },
  {
   "cell_type": "markdown",
   "id": "a606f117",
   "metadata": {},
   "source": [
    "### 튜플에서 정렬 활용하기\n",
    "- 문제를 풀다보면 종종 사용하게 되더라\n",
    "- 확실하게 할 줄 알고 넘어가자!\n"
   ]
  },
  {
   "cell_type": "code",
   "execution_count": 12,
   "id": "b4ae2cf0",
   "metadata": {},
   "outputs": [
    {
     "data": {
      "text/plain": [
       "[('이순신', 75), ('박지성', 40), ('루니', 36), ('홍길동', 35)]"
      ]
     },
     "execution_count": 12,
     "metadata": {},
     "output_type": "execute_result"
    }
   ],
   "source": [
    "# 뒤의 원소로 정렬이 가능하다.\n",
    "tp =[('홍길동',35),('이순신',75),('루니',36),('박지성',40)]\n",
    "result = sorted(tp, key = lambda x:x[1], reverse = True)\n",
    "result"
   ]
  },
  {
   "cell_type": "code",
   "execution_count": 13,
   "id": "c08af763",
   "metadata": {},
   "outputs": [
    {
     "data": {
      "text/plain": [
       "[('루니', 36), ('박지성', 40), ('이순신', 75), ('홍길동', 35)]"
      ]
     },
     "execution_count": 13,
     "metadata": {},
     "output_type": "execute_result"
    }
   ],
   "source": [
    "# 디폴트는 앞 원소의 정렬\n",
    "sorted(tp)"
   ]
  },
  {
   "cell_type": "markdown",
   "id": "969fea60",
   "metadata": {},
   "source": [
    "## itertools\n",
    "- 반복되는 데이터를 처리하는 기능을 포함한 라이브러리\n",
    "- 순열, 조합을 사용할 수 있다."
   ]
  },
  {
   "cell_type": "code",
   "execution_count": 25,
   "id": "139595b5",
   "metadata": {},
   "outputs": [
    {
     "name": "stdout",
     "output_type": "stream",
     "text": [
      "[('A', 'B', 'C'), ('A', 'C', 'B'), ('B', 'A', 'C'), ('B', 'C', 'A'), ('C', 'A', 'B'), ('C', 'B', 'A')]\n"
     ]
    }
   ],
   "source": [
    "from itertools import permutations, combinations, product, combinations_with_replacement\n",
    "\n",
    "data = ['A','B','C']\n",
    "\n",
    "# 모든 순열 구하기\n",
    "result = list(permutations(data,3))\n",
    "print(result)"
   ]
  },
  {
   "cell_type": "code",
   "execution_count": 20,
   "id": "e306fc84",
   "metadata": {},
   "outputs": [
    {
     "name": "stdout",
     "output_type": "stream",
     "text": [
      "[('A', 'B'), ('A', 'C'), ('B', 'C')]\n"
     ]
    }
   ],
   "source": [
    "# 3개의 데이터 중 2개의 조합 계산\n",
    "result2 = list(combinations(data,2))\n",
    "print(result2)"
   ]
  },
  {
   "cell_type": "code",
   "execution_count": 24,
   "id": "6171c584",
   "metadata": {},
   "outputs": [
    {
     "name": "stdout",
     "output_type": "stream",
     "text": [
      "[('A', 'A'), ('A', 'B'), ('A', 'C'), ('B', 'A'), ('B', 'B'), ('B', 'C'), ('C', 'A'), ('C', 'B'), ('C', 'C')]\n"
     ]
    }
   ],
   "source": [
    "# 2개를 뽑는 모든 순열 구하기 (중복 허용)\n",
    "result3 = list(product(data,repeat=2))\n",
    "print(result3)"
   ]
  },
  {
   "cell_type": "code",
   "execution_count": 26,
   "id": "816562ff",
   "metadata": {},
   "outputs": [
    {
     "name": "stdout",
     "output_type": "stream",
     "text": [
      "[('A', 'A'), ('A', 'B'), ('A', 'C'), ('B', 'B'), ('B', 'C'), ('C', 'C')]\n"
     ]
    }
   ],
   "source": [
    "# 2개를 뽑는 모든 조합 구하기(중복 허용)\n",
    "result4 = list(combinations_with_replacement(data,2))\n",
    "print(result4)"
   ]
  },
  {
   "cell_type": "markdown",
   "id": "234cbda3",
   "metadata": {},
   "source": [
    "## heapq\n",
    "- 힙의 기능을 사용하게 해주는 라이브러리\n",
    "- PriorityQueue 라이브러리보다 빠른 동작을 함\n"
   ]
  },
  {
   "cell_type": "code",
   "execution_count": 27,
   "id": "ea8a79e3",
   "metadata": {},
   "outputs": [
    {
     "name": "stdout",
     "output_type": "stream",
     "text": [
      "[0, 1, 2, 3, 4, 5, 6, 7, 8, 9]\n"
     ]
    }
   ],
   "source": [
    "import heapq\n",
    "\n",
    "def heapsort(iterable):\n",
    "    h = []\n",
    "    result = []\n",
    "    for value in iterable:\n",
    "        heapq.heappush(h,value)\n",
    "    for i in range(len(h)):\n",
    "        result.append(heapq.heappop(h))\n",
    "    return result\n",
    "\n",
    "result = heapsort([1,3,5,7,9,2,4,6,8,0])\n",
    "print(result)"
   ]
  },
  {
   "cell_type": "markdown",
   "id": "6b4928dc",
   "metadata": {},
   "source": [
    "- 참고로 heapq는 최대힙을 지원하지 않는다.\n",
    "- 고로 최대힙을 사용하기 위해서는 모든 수를 음수로 바꾸고 최소힙 처리를 한 다음 다시 양수로 바꿔준다."
   ]
  },
  {
   "cell_type": "code",
   "execution_count": 28,
   "id": "f50ee156",
   "metadata": {},
   "outputs": [
    {
     "name": "stdout",
     "output_type": "stream",
     "text": [
      "[9, 8, 7, 6, 5, 4, 3, 2, 1, 0]\n"
     ]
    }
   ],
   "source": [
    "import heapq\n",
    "\n",
    "def heapsort(iterable):\n",
    "    h = []\n",
    "    result = []\n",
    "    for value in iterable:\n",
    "        heapq.heappush(h,-value)\n",
    "    for i in range(len(h)):\n",
    "        result.append(-heapq.heappop(h))\n",
    "    return result\n",
    "\n",
    "result = heapsort([1,3,5,7,9,2,4,6,8,0])\n",
    "print(result)"
   ]
  },
  {
   "cell_type": "markdown",
   "id": "7d464964",
   "metadata": {},
   "source": [
    "## bisect\n",
    "- 이진 탐색을 쉽게 구현해주는 라이브러리이다.\n",
    "- 정렬된 배열에서 특정한 원소를 찾아야 할 때 사용된다.\n",
    "- bisect_left(), bisect_right() 함수가 중요하게 사용된다."
   ]
  },
  {
   "cell_type": "code",
   "execution_count": 30,
   "id": "a3ddea2d",
   "metadata": {},
   "outputs": [
    {
     "name": "stdout",
     "output_type": "stream",
     "text": [
      "2\n",
      "4\n",
      "2\n"
     ]
    }
   ],
   "source": [
    "from bisect import bisect_left, bisect_right\n",
    "\n",
    "arr = [1,2,5,5,7,8,9]\n",
    "\n",
    "# 5는 arr에서 왼쪽에서부터 몇 번째에 있는가?\n",
    "print(bisect_left(arr,5))\n",
    "# 5는 arr에서 오른쪽에서부터 몇 번째에 있는가?\n",
    "print(bisect_right(arr,5))\n",
    "\n",
    "# 그러면 arr 배열에서 5가 몇개인지 확인 가능하겠지?\n",
    "print(bisect_right(arr,5)-bisect_left(arr,5))"
   ]
  },
  {
   "cell_type": "markdown",
   "id": "8e318106",
   "metadata": {},
   "source": [
    "- 조금 더 활용해보자"
   ]
  },
  {
   "cell_type": "code",
   "execution_count": 32,
   "id": "ad8dea6d",
   "metadata": {},
   "outputs": [
    {
     "name": "stdout",
     "output_type": "stream",
     "text": [
      "2\n",
      "6\n"
     ]
    }
   ],
   "source": [
    "def count_by_range(a,l,r):\n",
    "    right = bisect_right(a,r)\n",
    "    left = bisect_left(a,l)\n",
    "    return right-left\n",
    "\n",
    "a = [1,2,3,3,3,3,4,4,8,9]\n",
    "\n",
    "# 리스트에 4가 몇개 있는가?\n",
    "print(count_by_range(a,4,4))\n",
    "\n",
    "\n",
    "# 리스트에 [-1,3] 범위에 있는 숫자는 몇 개 있는가?\n",
    "print(count_by_range(a,-1,3))"
   ]
  },
  {
   "cell_type": "markdown",
   "id": "1424d847",
   "metadata": {},
   "source": [
    "## collections\n",
    "- 스택, 큐 등과 같은 유용한 자료구조를 제공하는 라이브러리\n",
    "- deque, Counter 가 존재\n"
   ]
  },
  {
   "cell_type": "markdown",
   "id": "a455a370",
   "metadata": {},
   "source": [
    "#### deque\n",
    "- 리스트의 경우 가장 앞에 원소를 추가하거나 삭제할 때 O(n)의 시간복잡도를 가지지만 \n",
    "- deque의 경우 모든 경우 O(1)의 시간복잡도를 가진다.\n",
    "- 인덱싱, 슬라이싱의 기능을 사용할 수 없다.\n",
    "- 연속적인 데이터의 삽입, 삭제 부분에서는 효율적이다.\n",
    "- 스택, 큐의 역할을 수행할 수 있다."
   ]
  },
  {
   "cell_type": "code",
   "execution_count": 34,
   "id": "442ce197",
   "metadata": {},
   "outputs": [
    {
     "name": "stdout",
     "output_type": "stream",
     "text": [
      "deque([1, 2, 3, 4, 5])\n",
      "[1, 2, 3, 4, 5]\n"
     ]
    }
   ],
   "source": [
    "from collections import deque\n",
    "\n",
    "data = deque([2,3,4])\n",
    "data.appendleft(1)\n",
    "data.append(5)\n",
    "\n",
    "print(data)\n",
    "\n",
    "# 리스트로 변환\n",
    "print(list(data))"
   ]
  },
  {
   "cell_type": "markdown",
   "id": "b333b9d5",
   "metadata": {},
   "source": [
    "#### Counter\n",
    "- 등장 횟수를 세는 기능을 제공한다."
   ]
  },
  {
   "cell_type": "code",
   "execution_count": 36,
   "id": "ce8e20fd",
   "metadata": {},
   "outputs": [
    {
     "name": "stdout",
     "output_type": "stream",
     "text": [
      "3\n",
      "1\n",
      "{'a': 3, 'b': 1, 'c': 1, 'd': 1}\n"
     ]
    }
   ],
   "source": [
    "from collections import Counter\n",
    "\n",
    "counter = Counter(['a','b','a','a','c','d'])\n",
    "\n",
    "print(counter['a'])\n",
    "print(counter['b'])\n",
    "\n",
    "# 사전 자료형으로 변환\n",
    "print(dict(counter))"
   ]
  },
  {
   "cell_type": "markdown",
   "id": "6c9e8f6b",
   "metadata": {},
   "source": [
    "## math\n",
    "\n",
    "- 자주 사용되는 수학적인 기능을 포함하는 라이브러리\n",
    "- 팩토리얼, 제곱근, 최대공약수 등 계산 기능을 포함함.\n"
   ]
  },
  {
   "cell_type": "code",
   "execution_count": 37,
   "id": "fa4ba5ee",
   "metadata": {},
   "outputs": [
    {
     "data": {
      "text/plain": [
       "120"
      ]
     },
     "execution_count": 37,
     "metadata": {},
     "output_type": "execute_result"
    }
   ],
   "source": [
    "import math\n",
    "\n",
    "math.factorial(5)"
   ]
  },
  {
   "cell_type": "code",
   "execution_count": 38,
   "id": "da97b454",
   "metadata": {},
   "outputs": [
    {
     "data": {
      "text/plain": [
       "2.0"
      ]
     },
     "execution_count": 38,
     "metadata": {},
     "output_type": "execute_result"
    }
   ],
   "source": [
    "# 제곱근\n",
    "math.sqrt(4)"
   ]
  },
  {
   "cell_type": "code",
   "execution_count": 39,
   "id": "c037b49b",
   "metadata": {},
   "outputs": [
    {
     "data": {
      "text/plain": [
       "7"
      ]
     },
     "execution_count": 39,
     "metadata": {},
     "output_type": "execute_result"
    }
   ],
   "source": [
    "# 최대공약수\n",
    "math.gcd(21,14)"
   ]
  },
  {
   "cell_type": "code",
   "execution_count": 41,
   "id": "794bba8c",
   "metadata": {},
   "outputs": [
    {
     "name": "stdout",
     "output_type": "stream",
     "text": [
      "3.141592653589793\n",
      "2.718281828459045\n"
     ]
    }
   ],
   "source": [
    "# 파이값 \n",
    "print(math.pi)\n",
    "# 자연 상수 e 값\n",
    "print(math.e)"
   ]
  },
  {
   "cell_type": "code",
   "execution_count": null,
   "id": "11f0d1a8",
   "metadata": {},
   "outputs": [],
   "source": []
  }
 ],
 "metadata": {
  "kernelspec": {
   "display_name": "Python 3 (ipykernel)",
   "language": "python",
   "name": "python3"
  },
  "language_info": {
   "codemirror_mode": {
    "name": "ipython",
    "version": 3
   },
   "file_extension": ".py",
   "mimetype": "text/x-python",
   "name": "python",
   "nbconvert_exporter": "python",
   "pygments_lexer": "ipython3",
   "version": "3.9.13"
  }
 },
 "nbformat": 4,
 "nbformat_minor": 5
}
