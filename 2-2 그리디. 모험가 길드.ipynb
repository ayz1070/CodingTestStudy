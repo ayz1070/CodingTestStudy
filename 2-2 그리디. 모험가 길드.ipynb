{
 "cells": [
  {
   "cell_type": "markdown",
   "id": "ace20a43",
   "metadata": {},
   "source": [
    "### 모험가 길드"
   ]
  },
  {
   "cell_type": "markdown",
   "id": "25017676",
   "metadata": {},
   "source": [
    "#### 접근\n",
    "- 내림차순으로 정렬하여 큰 수부터 그룹화하여 갯수를 센다\n",
    "---\n",
    "-> 틀린 접근\n",
    "- 큰 것 부터 접근하는 것은 그리디하지 않다.\n",
    "- 오름차순 정렬하여 작은 수부터 그룹화하자!"
   ]
  },
  {
   "cell_type": "code",
   "execution_count": 4,
   "id": "08d4e350",
   "metadata": {},
   "outputs": [
    {
     "name": "stdout",
     "output_type": "stream",
     "text": [
      "5\n",
      "3 1 1 1 1\n",
      "3\n"
     ]
    }
   ],
   "source": [
    "n=int(input())\n",
    "hors = list(map(int,input().split()))\n",
    "hors.sort(reverse = True)\n",
    "\n",
    "count =0\n",
    "start = hors[0]\n",
    "n = len(hors)\n",
    "\n",
    "while n-start >=0:\n",
    "    n = n-start\n",
    "    count +=1\n",
    "    start = hors[start]\n",
    "    \n",
    "print(count)\n",
    "    \n"
   ]
  },
  {
   "cell_type": "markdown",
   "id": "b796f021",
   "metadata": {},
   "source": [
    "#### 느낀점\n",
    "\n",
    "- 소요시간 15분"
   ]
  },
  {
   "cell_type": "markdown",
   "id": "a5b9fb34",
   "metadata": {},
   "source": [
    "#### 정답 코드\n"
   ]
  },
  {
   "cell_type": "code",
   "execution_count": 2,
   "id": "281a8c25",
   "metadata": {},
   "outputs": [
    {
     "name": "stdout",
     "output_type": "stream",
     "text": [
      "5\n",
      "2 3 1 2 2\n",
      "2\n"
     ]
    }
   ],
   "source": [
    "n=int(input())\n",
    "data = list(map(int,input().split()))\n",
    "data.sort()\n",
    "\n",
    "# 총 그룹 수\n",
    "result = 0\n",
    "# 현재 그룹에 포함된 모험가의 수\n",
    "count = 0\n",
    "\n",
    "\n",
    "for i in data: # 공포도를 낮은 것부터 시작 -> 그리디\n",
    "    count += 1 # 현재 그룹에 해당 모험가를 포함시키기\n",
    "    if count >= i: # 현재 그룹에 포함된 모험가의 수가 현재의 공포도 이상이라면, 그룹 결성\n",
    "        result +=1 # 그룹 증가\n",
    "        count =0 # 그룹에 포함된 모험가의 수 초기화\n",
    "        \n",
    "print(result)"
   ]
  },
  {
   "cell_type": "code",
   "execution_count": null,
   "id": "39f4501d",
   "metadata": {},
   "outputs": [],
   "source": []
  }
 ],
 "metadata": {
  "kernelspec": {
   "display_name": "Python 3 (ipykernel)",
   "language": "python",
   "name": "python3"
  },
  "language_info": {
   "codemirror_mode": {
    "name": "ipython",
    "version": 3
   },
   "file_extension": ".py",
   "mimetype": "text/x-python",
   "name": "python",
   "nbconvert_exporter": "python",
   "pygments_lexer": "ipython3",
   "version": "3.9.13"
  }
 },
 "nbformat": 4,
 "nbformat_minor": 5
}
