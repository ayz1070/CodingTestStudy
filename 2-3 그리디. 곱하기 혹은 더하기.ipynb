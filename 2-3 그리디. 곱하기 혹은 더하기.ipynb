{
 "cells": [
  {
   "cell_type": "markdown",
   "id": "928b394e",
   "metadata": {},
   "source": [
    "### 곱하기 혹은 더하기"
   ]
  },
  {
   "cell_type": "markdown",
   "id": "b7717178",
   "metadata": {},
   "source": [
    "#### 접근\n",
    "- 0, 1 이외에는 곱하기 연산이 이득이다.\n",
    "- 0, 1 일 때는 더하기를 수행하고 그 외에는 곱하기를 수행하자."
   ]
  },
  {
   "cell_type": "code",
   "execution_count": 10,
   "id": "e3609089",
   "metadata": {},
   "outputs": [
    {
     "name": "stdout",
     "output_type": "stream",
     "text": [
      "576\n",
      "210\n"
     ]
    }
   ],
   "source": [
    "s=input()\n",
    "\n",
    "result = 0\n",
    "nums = list()\n",
    "\n",
    "for i in s:\n",
    "    nums.append(int(i))\n",
    "\n",
    "start =nums[0]\n",
    "\n",
    "for i in range(len(nums)-1):\n",
    "    if start ==1 or start ==0 or nums[i+1]==1 or nums[i+1]==0:\n",
    "        start = start+nums[i+1]\n",
    "    else:\n",
    "        start = start*nums[i+1]\n",
    "print(start)"
   ]
  },
  {
   "cell_type": "markdown",
   "id": "d2a2c12a",
   "metadata": {},
   "source": [
    "- 소요시간 20분\n",
    "- 조금 더 메모리 효율적인 방법을 찾아보자..."
   ]
  },
  {
   "cell_type": "markdown",
   "id": "9cc2506b",
   "metadata": {},
   "source": [
    "#### 정답 코드"
   ]
  },
  {
   "cell_type": "code",
   "execution_count": 2,
   "id": "e14dbb44",
   "metadata": {},
   "outputs": [
    {
     "name": "stdout",
     "output_type": "stream",
     "text": [
      "576\n",
      "210\n"
     ]
    }
   ],
   "source": [
    "data = input()\n",
    "\n",
    "result = int(data[0])\n",
    "\n",
    "for i in range(1, len(data)):\n",
    "    num = int(data[i])\n",
    "    if num <=1 or result <=1:\n",
    "        result += num\n",
    "    else:\n",
    "        result *= num\n",
    "        \n",
    "print(result)"
   ]
  },
  {
   "cell_type": "markdown",
   "id": "36e837d2",
   "metadata": {},
   "source": [
    "#### 느낀점\n",
    "- 기본적으로 논리는 정답과 유사하다.\n",
    "- 차이점은 나는 앞 뒤의 값을 비교해야 하니까 리스트로 변환하고 수행했다.\n",
    "- 정답 코드에서는 result가 이전 값에 대한 연산을 마친 결과로 굳이 따로 리스트로 만들어 불필요한 메모리를 낭비시킬 필요가 없었다."
   ]
  },
  {
   "cell_type": "code",
   "execution_count": null,
   "id": "eac62051",
   "metadata": {},
   "outputs": [],
   "source": []
  }
 ],
 "metadata": {
  "kernelspec": {
   "display_name": "Python 3 (ipykernel)",
   "language": "python",
   "name": "python3"
  },
  "language_info": {
   "codemirror_mode": {
    "name": "ipython",
    "version": 3
   },
   "file_extension": ".py",
   "mimetype": "text/x-python",
   "name": "python",
   "nbconvert_exporter": "python",
   "pygments_lexer": "ipython3",
   "version": "3.9.13"
  }
 },
 "nbformat": 4,
 "nbformat_minor": 5
}
