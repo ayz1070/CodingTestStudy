{
 "cells": [
  {
   "cell_type": "markdown",
   "id": "3c6558e7",
   "metadata": {},
   "source": [
    "# 그리디 알고리즘\n",
    "\n",
    "\n"
   ]
  },
  {
   "cell_type": "markdown",
   "id": "bbf3b100",
   "metadata": {},
   "source": [
    "## 그리디 알고리즘이란?\n",
    "---\n",
    "- 말 그대로 현재 상황에서 최선의 선택지를 고르는 방법이다.\n",
    "- 특정 알고리즘을 공부해야 한다는 개념이 없어 외울게 크게 없다.\n",
    "    - 이 말은 오히려 유형이 다양하기 때문에 여러 문제를 풀어보는 방법 밖에 없다...\n",
    "- '가장 큰 순소대로', '가장 작은 순서대로' 같은 기준을 알게 모르게 제시하는 경우가 많다.\n",
    "- 참고로 현재 상황에서 가장 좋은 것만 골랐을 때 최적의 값이 아닌 경우가 있다.\n",
    "    - 이 때, 다이나믹 프로그래밍 방법을 생각해 볼 수 있는데, 이는 추후에 설명하겠다."
   ]
  },
  {
   "cell_type": "markdown",
   "id": "45d45d6c",
   "metadata": {},
   "source": [
    "### 예제 3-1. 거스름돈\n"
   ]
  },
  {
   "cell_type": "markdown",
   "id": "85d6701a",
   "metadata": {},
   "source": [
    "#### 문제\n",
    "거스름돈이 500원, 100원, 50원, 10원이 무한하게 존재한다. 입력이 N원일 때 거슬러주어야 하는 최소의 동전의 개수를 구해라."
   ]
  },
  {
   "cell_type": "markdown",
   "id": "792f5708",
   "metadata": {},
   "source": [
    "#### 접근\n",
    "- 큰 단위의 돈을 많이 사용할수록 동전의 개수는 줄어드는가?\n",
    "    - 맞다. -> 500원 이외의 단위들이 각각의 높은 단위의 약수이거든\n",
    "        - 예를 들면, 500원은 100원 5개로 구성된다.\n",
    "    - 아닌 경우는 500원, 300원, 50원 짜리 화폐가 존재할 때, 1200원을 만드는 동전의 최소 개수는?\n",
    "        - 큰 단위부터 사용한다고 생각하면 500원 2개, 50원 4개로 4개가 소요되는 것 같지만 \n",
    "        - 실제 답은 300원짜리 4개이다. 이런 문제는 DP로 푸는 것이다.\n",
    "        - 하지만 이 문제는 큰 단위가 작은 단위로 구성될 수 있는 단위이기 때문에 그리디로 접근 가능하다.\n"
   ]
  },
  {
   "cell_type": "code",
   "execution_count": 2,
   "id": "9c6d5657",
   "metadata": {},
   "outputs": [
    {
     "name": "stdout",
     "output_type": "stream",
     "text": [
      "1260\n",
      "6\n"
     ]
    }
   ],
   "source": [
    "n = int(input())\n",
    "\n",
    "coins = [500,100,50,10]\n",
    "count = 0\n",
    "\n",
    "for coin in coins:\n",
    "    count += (n//coin)\n",
    "    n = n%coin\n",
    "    \n",
    "print(count)"
   ]
  },
  {
   "cell_type": "markdown",
   "id": "85007ef1",
   "metadata": {},
   "source": [
    "#### 느낀점\n",
    "- 그리디 문제이다.\n",
    "- 화폐의 종류가 K개 일 때, 시간복잡도는 O(K)이다.\n",
    "    - 이 문제에서 시간복잡도는 동전의 종류에 영향을 받고 금액과는 무관하다."
   ]
  },
  {
   "cell_type": "markdown",
   "id": "5521968a",
   "metadata": {},
   "source": [
    "### 실전 문제 2. 큰 수의 법칙"
   ]
  },
  {
   "cell_type": "markdown",
   "id": "94523000",
   "metadata": {},
   "source": [
    "#### 문제\n",
    "n개의 숫자가 주어지고, m번 더하여 가장 큰 숫자를 만들어라.</br>\n",
    "조건은 같은 수는 k번 연달아 쓸 수 있고 k번 사용하였으면 1번은 다른 숫자가 와야한다. 대신 1,2,4,4 처럼 같은 숫자가 입력된 경우 두 개의 4는 다른 숫자로 취급한다.\n"
   ]
  },
  {
   "cell_type": "markdown",
   "id": "89ba21f3",
   "metadata": {},
   "source": [
    "#### 접근\n",
    "- 그리디로 접근해보자.\n",
    "- 가장 큰 수부터 찾아야 하니까 리스트를 내림차순 정렬하면 좋겠지?\n",
    "- 가장 큰 수 k번 더하고 두 번째로 큰 수를 한 번 더하고... 이런 방식으로 접근해보자!"
   ]
  },
  {
   "cell_type": "code",
   "execution_count": 5,
   "id": "e3ae77eb",
   "metadata": {},
   "outputs": [
    {
     "name": "stdout",
     "output_type": "stream",
     "text": [
      "5 8 3\n",
      "2 4 5 4 6\n",
      "46\n"
     ]
    }
   ],
   "source": [
    "n,m,k = map(int,input().split())\n",
    "nums = list(map(int,input().split()))\n",
    "\n",
    "nums.sort(reverse=True)\n",
    "\n",
    "bundle = m//(k+1)\n",
    "rest = m%(k+1)\n",
    "\n",
    "result = bundle*k*nums[0] + bundle*nums[1] + rest*nums[0]\n",
    "print(result)"
   ]
  },
  {
   "cell_type": "markdown",
   "id": "5cd1d96f",
   "metadata": {},
   "source": [
    "#### 느낀점\n",
    "- 반복문으로 풀어도 되지만 수식으로 풀었을 경우 훨씬 간단하다."
   ]
  },
  {
   "cell_type": "markdown",
   "id": "a00c4149",
   "metadata": {},
   "source": [
    "### 실전 문제 3. 숫자 카드 게임"
   ]
  },
  {
   "cell_type": "markdown",
   "id": "6431b876",
   "metadata": {},
   "source": [
    "#### 문제\n",
    "n x m 인 행렬에 숫자가 있고 각각의 행에 존재하는 숫자 중에 가장 작은 값을 뽑는다. 뽑은 값들 중에서 가장 큰 값을 찾아라.\n",
    "\n"
   ]
  },
  {
   "cell_type": "markdown",
   "id": "8dd47fe2",
   "metadata": {},
   "source": [
    "#### 접근\n",
    "- 문제에서는 행렬이 주어진다. 하지만 행렬을 직접 만드는 것은 시간복잡도 측면에서 기본적으로 O(n^2)이고 메모리도 많이 잡아먹는다.\n",
    "    - 직접 행렬을 만들기 보다는 문제에 맞게 입력에 대한 행의 최솟값만 가져오는 방향으로 설정한다."
   ]
  },
  {
   "cell_type": "code",
   "execution_count": null,
   "id": "9a901e5a",
   "metadata": {},
   "outputs": [],
   "source": [
    "n,m = map(int,input().split())\n",
    "\n",
    "min_list = []\n",
    "for i in range(n):\n",
    "    min_list.append(min(list(map(int,input().split()))))\n",
    "\n",
    "print(max(min_list))"
   ]
  },
  {
   "cell_type": "markdown",
   "id": "5a20bda3",
   "metadata": {},
   "source": [
    "#### 느낀점\n",
    "- 행렬이 주어진다고 꼭 행렬을 만들어 메모리를 낭비시킬 필요가 없다."
   ]
  },
  {
   "cell_type": "markdown",
   "id": "c75eff4c",
   "metadata": {},
   "source": [
    "### 실전 문제 4. 1이 될 때까지\n"
   ]
  },
  {
   "cell_type": "markdown",
   "id": "7b675768",
   "metadata": {},
   "source": [
    "#### 문제\n",
    "정수 n을 입력받고 두 연산을 수행해서 최소의 수행으로 1이 되게 하는 연산 횟수를 구해라.\n",
    "- n에서 1을 뺀다.\n",
    "- n을 k로 나눈다.\n",
    "\n"
   ]
  },
  {
   "cell_type": "markdown",
   "id": "64e4cea0",
   "metadata": {},
   "source": [
    "#### 접근\n",
    "- 나누는 것이 1을 빼는 것 보다 연산 횟수를 더 크게 줄여준다.\n",
    "- 나누어 떨어지면 나누기, 그 외에는 1을 빼는 연산을 수행한다.\n"
   ]
  },
  {
   "cell_type": "code",
   "execution_count": 2,
   "id": "288413a2",
   "metadata": {},
   "outputs": [
    {
     "name": "stdout",
     "output_type": "stream",
     "text": [
      "17 4\n",
      "3\n"
     ]
    }
   ],
   "source": [
    "n,k = map(int,input().split())\n",
    "\n",
    "result = 0\n",
    "\n",
    "while n != 1:\n",
    "    if n % k == 0:\n",
    "        n = n/k\n",
    "    else:\n",
    "        n = n-1\n",
    "    result +=1\n",
    "\n",
    "print(result)"
   ]
  },
  {
   "cell_type": "markdown",
   "id": "d6ec5643",
   "metadata": {},
   "source": [
    "#### 느낀점\n",
    "- 그리디의 전형적인 문제이다.\n",
    "    - 가장 이익이 되는 해결 방안을 사용하고 그 다음 차선의 방법을 사용하는 것..."
   ]
  },
  {
   "cell_type": "code",
   "execution_count": null,
   "id": "0b4f1fb6",
   "metadata": {},
   "outputs": [],
   "source": []
  }
 ],
 "metadata": {
  "kernelspec": {
   "display_name": "Python 3 (ipykernel)",
   "language": "python",
   "name": "python3"
  },
  "language_info": {
   "codemirror_mode": {
    "name": "ipython",
    "version": 3
   },
   "file_extension": ".py",
   "mimetype": "text/x-python",
   "name": "python",
   "nbconvert_exporter": "python",
   "pygments_lexer": "ipython3",
   "version": "3.9.13"
  }
 },
 "nbformat": 4,
 "nbformat_minor": 5
}
