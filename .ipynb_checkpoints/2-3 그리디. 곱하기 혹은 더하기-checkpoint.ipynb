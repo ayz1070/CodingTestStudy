{
 "cells": [
  {
   "cell_type": "markdown",
   "id": "928b394e",
   "metadata": {},
   "source": [
    "### 곱하기 혹은 더하기"
   ]
  },
  {
   "cell_type": "code",
   "execution_count": 10,
   "id": "e3609089",
   "metadata": {},
   "outputs": [
    {
     "name": "stdout",
     "output_type": "stream",
     "text": [
      "576\n",
      "210\n"
     ]
    }
   ],
   "source": [
    "s=input()\n",
    "\n",
    "result = 0\n",
    "nums = list()\n",
    "\n",
    "for i in s:\n",
    "    nums.append(int(i))\n",
    "\n",
    "start =nums[0]\n",
    "\n",
    "for i in range(len(nums)-1):\n",
    "    if start ==1 or start ==0 or nums[i+1]==1 or nums[i+1]==0:\n",
    "        start = start+nums[i+1]\n",
    "    else:\n",
    "        start = start*nums[i+1]\n",
    "print(start)"
   ]
  },
  {
   "cell_type": "markdown",
   "id": "d2a2c12a",
   "metadata": {},
   "source": [
    "- 소요시간 20분\n",
    "- 조금 더 메모리 효율적인 방법을 찾아보자..."
   ]
  },
  {
   "cell_type": "code",
   "execution_count": null,
   "id": "06d7bd1b",
   "metadata": {},
   "outputs": [],
   "source": []
  }
 ],
 "metadata": {
  "kernelspec": {
   "display_name": "Python 3 (ipykernel)",
   "language": "python",
   "name": "python3"
  },
  "language_info": {
   "codemirror_mode": {
    "name": "ipython",
    "version": 3
   },
   "file_extension": ".py",
   "mimetype": "text/x-python",
   "name": "python",
   "nbconvert_exporter": "python",
   "pygments_lexer": "ipython3",
   "version": "3.9.13"
  }
 },
 "nbformat": 4,
 "nbformat_minor": 5
}
