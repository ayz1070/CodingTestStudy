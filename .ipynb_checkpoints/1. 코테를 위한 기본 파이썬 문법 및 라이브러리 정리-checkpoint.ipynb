{
 "cells": [
  {
   "cell_type": "markdown",
   "id": "5e6d2062",
   "metadata": {},
   "source": [
    "# 1. 자료형\n",
    "\n",
    "헷갈리는 것 위주로 정리하겠다.\n",
    "\n",
    "## 실수형\n",
    "- \"유효숫자e지수\" 형태로 표현이 가능하다."
   ]
  },
  {
   "cell_type": "code",
   "execution_count": 1,
   "id": "32c81adc",
   "metadata": {},
   "outputs": [
    {
     "name": "stdout",
     "output_type": "stream",
     "text": [
      "1000000000.0\n",
      "1.234\n"
     ]
    }
   ],
   "source": [
    "print(1e9)\n",
    "print(1234e-3)"
   ]
  },
  {
   "cell_type": "markdown",
   "id": "075dd2ac",
   "metadata": {},
   "source": [
    "- round 함수를 사용하여 특정 소숫점에서 반올림이 가능하다."
   ]
  },
  {
   "cell_type": "code",
   "execution_count": 7,
   "id": "be0ae7e4",
   "metadata": {},
   "outputs": [
    {
     "name": "stdout",
     "output_type": "stream",
     "text": [
      "0.1\n",
      "0.147\n"
     ]
    }
   ],
   "source": [
    "a = 0.1467\n",
    "# 첫 째 자리까지 표현\n",
    "print(round(a,1))\n",
    "# 셋 째 자리까지 표현\n",
    "print(round(a,3))"
   ]
  },
  {
   "cell_type": "markdown",
   "id": "2b405ec7",
   "metadata": {},
   "source": [
    "## 리스트 자료형\n",
    "\n",
    "- 리스트는 기본적으로 아래와 같이 선언 가능하다."
   ]
  },
  {
   "cell_type": "code",
   "execution_count": 9,
   "id": "0563c1ad",
   "metadata": {},
   "outputs": [
    {
     "name": "stdout",
     "output_type": "stream",
     "text": [
      "<class 'list'>\n"
     ]
    }
   ],
   "source": [
    "a = list()\n",
    "b = []\n",
    "print(type(a))"
   ]
  },
  {
   "cell_type": "markdown",
   "id": "f4343b96",
   "metadata": {},
   "source": [
    "### 리스트 컴프리헨션\n",
    "\n",
    "- 리스트를 괄호 안에 조건문이나 반복문을 사용함으로써 초기화하는 방식이다.\n"
   ]
  },
  {
   "cell_type": "code",
   "execution_count": 10,
   "id": "1baa2153",
   "metadata": {},
   "outputs": [
    {
     "data": {
      "text/plain": [
       "[0, 3, 6, 9]"
      ]
     },
     "execution_count": 10,
     "metadata": {},
     "output_type": "execute_result"
    }
   ],
   "source": [
    "# 0에서 10까지 3의 배수\n",
    "arr = [i for i in range(0,10) if i%3 == 0]\n",
    "arr"
   ]
  },
  {
   "cell_type": "code",
   "execution_count": 11,
   "id": "eb3934eb",
   "metadata": {},
   "outputs": [
    {
     "data": {
      "text/plain": [
       "[0, 1, 4, 9, 16, 25, 36, 49, 64, 81]"
      ]
     },
     "execution_count": 11,
     "metadata": {},
     "output_type": "execute_result"
    }
   ],
   "source": [
    "# 0에서 10까지 제곱\n",
    "arr2 = [i*i for i in range(0,10)]\n",
    "arr2"
   ]
  },
  {
   "cell_type": "code",
   "execution_count": 12,
   "id": "eda0a012",
   "metadata": {},
   "outputs": [
    {
     "data": {
      "text/plain": [
       "[[0, 0, 0, 0], [0, 0, 0, 0], [0, 0, 0, 0]]"
      ]
     },
     "execution_count": 12,
     "metadata": {},
     "output_type": "execute_result"
    }
   ],
   "source": [
    "# 2차원 리스트를 초기화할 때 유용하다.\n",
    "n=3\n",
    "m=4\n",
    "arr3 = [[0]*m for _ in range(0,n)]\n",
    "arr3"
   ]
  },
  {
   "cell_type": "markdown",
   "id": "d1ea76e7",
   "metadata": {},
   "source": [
    "### 리스트 관련 메서드\n",
    "\n",
    "- insert()\n",
    "    - insert는 지정 위치에 원소를 삽입하는 메서드\n",
    "    - 위치를 찾아야 하기 때문에 시간복잡도는 O(n)\n",
    "    - 남발하면 시간 초과\n"
   ]
  },
  {
   "cell_type": "code",
   "execution_count": 16,
   "id": "d4f7c722",
   "metadata": {},
   "outputs": [
    {
     "data": {
      "text/plain": [
       "[1, 3, 4, 5]"
      ]
     },
     "execution_count": 16,
     "metadata": {},
     "output_type": "execute_result"
    }
   ],
   "source": [
    "marr = [1,3,5]\n",
    "marr.insert(2,4)\n",
    "marr"
   ]
  },
  {
   "cell_type": "markdown",
   "id": "23af054f",
   "metadata": {},
   "source": [
    "- append()\n",
    "    - 리스트의 맨 뒤에 원소 삽입\n",
    "    - O(1)의 시간복잡도를 가진다"
   ]
  },
  {
   "cell_type": "code",
   "execution_count": 17,
   "id": "c071b7ee",
   "metadata": {},
   "outputs": [
    {
     "data": {
      "text/plain": [
       "[1, 3, 4, 5, 6]"
      ]
     },
     "execution_count": 17,
     "metadata": {},
     "output_type": "execute_result"
    }
   ],
   "source": [
    "marr.append(6)\n",
    "marr"
   ]
  },
  {
   "cell_type": "markdown",
   "id": "8aa339b2",
   "metadata": {},
   "source": [
    "- remove()\n",
    "    - 리스트의 원소를 삭제\n",
    "    - O(n)의 시간복잡도를 가진다.\n",
    "    "
   ]
  },
  {
   "cell_type": "code",
   "execution_count": 19,
   "id": "b00ca96d",
   "metadata": {},
   "outputs": [
    {
     "data": {
      "text/plain": [
       "[3, 4, 5, 6]"
      ]
     },
     "execution_count": 19,
     "metadata": {},
     "output_type": "execute_result"
    }
   ],
   "source": [
    "marr.remove(1)\n",
    "marr"
   ]
  },
  {
   "cell_type": "markdown",
   "id": "fab85d9f",
   "metadata": {},
   "source": [
    "- 활용을 해서 특정 원소만 제거하고 싶다면?"
   ]
  },
  {
   "cell_type": "code",
   "execution_count": 22,
   "id": "fbec7cfe",
   "metadata": {},
   "outputs": [
    {
     "data": {
      "text/plain": [
       "[3, 3, 5, 6, 7]"
      ]
     },
     "execution_count": 22,
     "metadata": {},
     "output_type": "execute_result"
    }
   ],
   "source": [
    "marr2 = [1,1,1,1,3,3,4,5,6,7]\n",
    "remove_set = [1,4]\n",
    "result = [i for i in marr2 if i not in remove_set]\n",
    "result"
   ]
  },
  {
   "cell_type": "markdown",
   "id": "2a098c1d",
   "metadata": {},
   "source": [
    "### 튜플 자료형\n",
    "\n",
    "- 한 번 선언된 값을 변경할 수 없다\n",
    "- 소괄호 ()로 선언한다.\n",
    "- 그래프 알고리즘에서 자주 사용되어 튜플을 사용함으로써 변경하면 안 되는 값이 변경되고 있는지 체크가 가능하다.\n",
    "- 다익스타라 최단 경로 알고리즘에서 비용과 노드라는 서로 다른 성질의 데이터를 (비용, 노드)로 튜플로 나타내는 것이 관례이다."
   ]
  },
  {
   "cell_type": "code",
   "execution_count": 23,
   "id": "25deef70",
   "metadata": {},
   "outputs": [
    {
     "ename": "TypeError",
     "evalue": "'tuple' object does not support item assignment",
     "output_type": "error",
     "traceback": [
      "\u001b[1;31m---------------------------------------------------------------------------\u001b[0m",
      "\u001b[1;31mTypeError\u001b[0m                                 Traceback (most recent call last)",
      "Cell \u001b[1;32mIn[23], line 2\u001b[0m\n\u001b[0;32m      1\u001b[0m tp \u001b[38;5;241m=\u001b[39m (\u001b[38;5;241m1\u001b[39m,\u001b[38;5;241m2\u001b[39m,\u001b[38;5;241m3\u001b[39m,\u001b[38;5;241m4\u001b[39m)\n\u001b[1;32m----> 2\u001b[0m \u001b[43mtp\u001b[49m\u001b[43m[\u001b[49m\u001b[38;5;241;43m1\u001b[39;49m\u001b[43m]\u001b[49m \u001b[38;5;241m=\u001b[39m \u001b[38;5;241m3\u001b[39m\n",
      "\u001b[1;31mTypeError\u001b[0m: 'tuple' object does not support item assignment"
     ]
    }
   ],
   "source": [
    "tp = (1,2,3,4)\n",
    "tp[1] = 3\n"
   ]
  },
  {
   "cell_type": "markdown",
   "id": "2c096a53",
   "metadata": {},
   "source": [
    "### 사전 자료형\n",
    "- 키와 값의 쌍으로 데이터를 가지는 자료형\n",
    "- O(1)의 시간복잡도를 가져 문제를 풀 때 효율적으로 사용할 수 있다.\n"
   ]
  },
  {
   "cell_type": "code",
   "execution_count": 28,
   "id": "308fe0a4",
   "metadata": {},
   "outputs": [
    {
     "name": "stdout",
     "output_type": "stream",
     "text": [
      "True\n",
      "dict_keys(['사과', '바나나', '수박'])\n",
      "dict_values(['apple', 'banana', 'watermelon'])\n"
     ]
    }
   ],
   "source": [
    "fruits = dict()\n",
    "fruits['사과'] = 'apple'\n",
    "fruits['바나나'] = 'banana'\n",
    "fruits['수박'] = 'watermelon'\n",
    "\n",
    "print('사과' in fruits)\n",
    "print(fruits.keys())\n",
    "print(fruits.values())"
   ]
  },
  {
   "cell_type": "markdown",
   "id": "9a895e0a",
   "metadata": {},
   "source": [
    "### 집합 자료형\n",
    "\n",
    "- 중복을 허용하지 않는다.\n",
    "- 순서가 없다.\n",
    "- O(1)의 시간복잡도를 지닌다.\n",
    "- 특정한 데이터가 이미 등장한 적이 있는지 여부를 체크할 때 매우 효과적이다."
   ]
  },
  {
   "cell_type": "code",
   "execution_count": 32,
   "id": "d1c85563",
   "metadata": {},
   "outputs": [
    {
     "name": "stdout",
     "output_type": "stream",
     "text": [
      "[1, 1, 1, 3, 4, 4, 5, 2, 2]\n",
      "{1, 2, 3, 4, 5}\n"
     ]
    }
   ],
   "source": [
    "data = [1,1,1,3,4,4,5,2,2]\n",
    "sdata = set(data)\n",
    "print(data)\n",
    "print(sdata)"
   ]
  },
  {
   "cell_type": "code",
   "execution_count": 34,
   "id": "aae7d4a8",
   "metadata": {},
   "outputs": [
    {
     "name": "stdout",
     "output_type": "stream",
     "text": [
      "{1, 2, 3, 4, 5, 6}\n",
      "{3, 4}\n",
      "{1, 2}\n"
     ]
    }
   ],
   "source": [
    "# 집합 자료형의 연산\n",
    "a = set([1,2,3,4])\n",
    "b = set([3,4,5,6])\n",
    "print(a|b) # 합집합\n",
    "print(a&b) # 교집합\n",
    "print(a-b) # 차집합"
   ]
  },
  {
   "cell_type": "code",
   "execution_count": 36,
   "id": "ac6f6785",
   "metadata": {},
   "outputs": [
    {
     "name": "stdout",
     "output_type": "stream",
     "text": [
      "{1, 2, 3}\n",
      "{1, 2, 3, 4}\n",
      "{1, 2, 3, 4, 5, 6}\n",
      "{1, 2, 4, 5, 6}\n"
     ]
    }
   ],
   "source": [
    "# 집합 자료형 관련 함수\n",
    "sdata2= set([1,2,3])\n",
    "print(sdata2)\n",
    "\n",
    "sdata2.add(4)\n",
    "print(sdata2)\n",
    "\n",
    "sdata2.update([5,6])\n",
    "print(sdata2)\n",
    "\n",
    "sdata2.remove(3)\n",
    "print(sdata2)"
   ]
  },
  {
   "cell_type": "markdown",
   "id": "489bffeb",
   "metadata": {},
   "source": [
    "# 2. 람다 표현식"
   ]
  },
  {
   "cell_type": "markdown",
   "id": "44723b1e",
   "metadata": {},
   "source": [
    "람다 표현식이란?\n",
    "\n",
    "- 식 형태로 함수를 만드다.\n",
    "- 익명 함수라고도 한다.\n",
    "\n"
   ]
  },
  {
   "cell_type": "code",
   "execution_count": 1,
   "id": "62b71417",
   "metadata": {},
   "outputs": [
    {
     "data": {
      "text/plain": [
       "20"
      ]
     },
     "execution_count": 1,
     "metadata": {},
     "output_type": "execute_result"
    }
   ],
   "source": [
    "def double_value(x):\n",
    "    return x *2\n",
    "\n",
    "double_value(10)\n"
   ]
  },
  {
   "cell_type": "code",
   "execution_count": 5,
   "id": "321bb005",
   "metadata": {},
   "outputs": [
    {
     "data": {
      "text/plain": [
       "20"
      ]
     },
     "execution_count": 5,
     "metadata": {},
     "output_type": "execute_result"
    }
   ],
   "source": [
    "lambda_double=lambda x : x*2\n",
    "lambda_double(10)"
   ]
  },
  {
   "cell_type": "markdown",
   "id": "0e9c8fef",
   "metadata": {},
   "source": [
    "- 람다 함수 내에서는 새 변수를 선언할 수 없다.\n",
    "- 람다 함수를 사용하는 목적은 함수의 인수 부분에서 간단하게 함수를 만들기 위해서이다.\n",
    "    - 대표적인 예가 map() 이다."
   ]
  },
  {
   "cell_type": "code",
   "execution_count": 9,
   "id": "dcbb8ae2",
   "metadata": {},
   "outputs": [
    {
     "data": {
      "text/plain": [
       "[2, 4, 6]"
      ]
     },
     "execution_count": 9,
     "metadata": {},
     "output_type": "execute_result"
    }
   ],
   "source": [
    "arr = list(map(lambda x: x*2,[1,2,3]))\n",
    "arr"
   ]
  },
  {
   "cell_type": "markdown",
   "id": "cec8efc3",
   "metadata": {},
   "source": [
    "- 저 한줄의 코드로 리스트의 원소를 모두 lambda 식에 적용할 수 있다.\n"
   ]
  },
  {
   "cell_type": "markdown",
   "id": "83dd6815",
   "metadata": {},
   "source": [
    "## 람다식 활용"
   ]
  },
  {
   "cell_type": "markdown",
   "id": "6bf54807",
   "metadata": {},
   "source": [
    "### 조건문 사용\n"
   ]
  },
  {
   "cell_type": "code",
   "execution_count": 16,
   "id": "9a50cafd",
   "metadata": {},
   "outputs": [
    {
     "data": {
      "text/plain": [
       "[0, 0, 3, 0, 0, 6, 0]"
      ]
     },
     "execution_count": 16,
     "metadata": {},
     "output_type": "execute_result"
    }
   ],
   "source": [
    "three = list(map(lambda x: x if x%3==0 else 0, [1,2,3,4,5,6,7]))\n",
    "\n",
    "# 참고로 if문만 사용하면 문법 에러 발생한다. 꼭 else와 같이 사용해야 한다. 그냥 def 써라..\n",
    "three"
   ]
  },
  {
   "cell_type": "code",
   "execution_count": null,
   "id": "4ba2b6fe",
   "metadata": {},
   "outputs": [],
   "source": []
  }
 ],
 "metadata": {
  "kernelspec": {
   "display_name": "Python 3 (ipykernel)",
   "language": "python",
   "name": "python3"
  },
  "language_info": {
   "codemirror_mode": {
    "name": "ipython",
    "version": 3
   },
   "file_extension": ".py",
   "mimetype": "text/x-python",
   "name": "python",
   "nbconvert_exporter": "python",
   "pygments_lexer": "ipython3",
   "version": "3.9.13"
  }
 },
 "nbformat": 4,
 "nbformat_minor": 5
}
